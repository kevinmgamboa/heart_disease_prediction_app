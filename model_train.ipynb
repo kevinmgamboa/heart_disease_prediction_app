{
 "cells": [
  {
   "cell_type": "markdown",
   "metadata": {},
   "source": [
    "# Heart Disease Prediction\n",
    "\n",
    "In this notebook we will performed a simple analysing the Heart Disease UCI dataset, building different models using the sklearn API, train and selecting the best model and save this one into a .pkl file ready for deployment.\n",
    "\n",
    "0. [Libraries Needed](#0.-Libraries-Needed)\n",
    "1. [Data Loading and Analysis](#1.-Data-Loading-and-Analysis)\n",
    "2. [Development and Comparison of Machine Learning Models](#2.-Development-and-Comparison-of-Machine-Learning-Models)\n",
    "3. [Saving Model for Deployment](#3.-Saving-Model-for-Deployment)\n",
    "\n",
    "## 0. Libraries Needed"
   ]
  },
  {
   "cell_type": "code",
   "execution_count": 1,
   "metadata": {
    "pycharm": {
     "is_executing": true,
     "name": "#%%\n"
    }
   },
   "outputs": [],
   "source": [
    "# basic libraries\n",
    "import os\n",
    "import pickle\n",
    "import numpy as np\n",
    "import pandas as pd\n",
    "import matplotlib.pyplot as plt\n",
    "# ML library\n",
    "from sklearn.model_selection import train_test_split, GridSearchCV, KFold, cross_val_score\n",
    "from sklearn.metrics import precision_recall_fscore_support as score\n",
    "import sklearn as skl\n",
    "# Importing Models\n",
    "from sklearn import tree\n",
    "from sklearn import svm\n",
    "from sklearn import linear_model\n",
    "from sklearn.neighbors import KNeighborsClassifier\n",
    "from sklearn.neural_network import MLPClassifier\n",
    "\n",
    "plt.rcParams['figure.figsize'] = [15, 6]"
   ]
  },
  {
   "cell_type": "markdown",
   "metadata": {},
   "source": [
    "The next is a function used to add annotations to our bar plots"
   ]
  },
  {
   "cell_type": "code",
   "execution_count": 2,
   "metadata": {
    "pycharm": {
     "name": "#%%\n"
    }
   },
   "outputs": [],
   "source": [
    "# Add annotations to a bar plot\n",
    "def add_annotations(rects, dp):\n",
    "    # Loop to place label to each bar\n",
    "    for i, rect in enumerate(rects):\n",
    "        # Get X and Y placement of label from rect.\n",
    "        x_value = rect.get_width()\n",
    "        y_value = rect.get_y() + rect.get_height() / 2\n",
    "        # Space points between bars\n",
    "        space = 5\n",
    "        # Vertical alignment for positive values\n",
    "        ha = 'left'\n",
    "        # If value of bar is negative: Place label left of bar\n",
    "        if x_value < 0:\n",
    "            # Invert space to place label to the left\n",
    "            space *= -1\n",
    "            # Horizontally align label at right\n",
    "            ha = 'right'\n",
    "        # Use X value as label and format number with one decimal place\n",
    "        label = str(x_value)\n",
    "        # Create text inside the bar\n",
    "        plt.text(x_value/3, y_value,'%.2f%%' %dp[i], fontsize=22,color='white')\n",
    "        # Create annotation\n",
    "        plt.annotate(\n",
    "            label,                      # Use `label` as label\n",
    "            (x_value, y_value),         # Place label at end of the bar\n",
    "            xytext=(space, 0),          # Horizontally shift label by `space`\n",
    "            textcoords=\"offset points\", # Interpret `xytext` as offset in points\n",
    "            va='center',                # Vertically center label\n",
    "            ha=ha)                      # Horizontally align label differently for"
   ]
  },
  {
   "cell_type": "markdown",
   "metadata": {},
   "source": [
    "## 1. Data Loading and Analysis"
   ]
  },
  {
   "cell_type": "code",
   "execution_count": 3,
   "metadata": {
    "pycharm": {
     "name": "#%%\n"
    }
   },
   "outputs": [],
   "source": [
    "dataset = pd.read_csv('heart.csv')"
   ]
  },
  {
   "cell_type": "markdown",
   "metadata": {},
   "source": [
    "First, lets check for corropted values in our dataset"
   ]
  },
  {
   "cell_type": "code",
   "execution_count": 4,
   "metadata": {},
   "outputs": [
    {
     "name": "stdout",
     "output_type": "stream",
     "text": [
      "<class 'pandas.core.frame.DataFrame'>\n",
      "RangeIndex: 303 entries, 0 to 302\n",
      "Data columns (total 14 columns):\n",
      " #   Column    Non-Null Count  Dtype  \n",
      "---  ------    --------------  -----  \n",
      " 0   age       303 non-null    int64  \n",
      " 1   sex       303 non-null    int64  \n",
      " 2   cp        303 non-null    int64  \n",
      " 3   trestbps  303 non-null    int64  \n",
      " 4   chol      303 non-null    int64  \n",
      " 5   fbs       303 non-null    int64  \n",
      " 6   restecg   303 non-null    int64  \n",
      " 7   thalach   303 non-null    int64  \n",
      " 8   exang     303 non-null    int64  \n",
      " 9   oldpeak   303 non-null    float64\n",
      " 10  slope     303 non-null    int64  \n",
      " 11  ca        303 non-null    int64  \n",
      " 12  thal      303 non-null    int64  \n",
      " 13  target    303 non-null    int64  \n",
      "dtypes: float64(1), int64(13)\n",
      "memory usage: 33.3 KB\n"
     ]
    }
   ],
   "source": [
    "dataset.info()"
   ]
  },
  {
   "cell_type": "markdown",
   "metadata": {},
   "source": [
    "Then let's check some basic statistics with the `describe()` method"
   ]
  },
  {
   "cell_type": "code",
   "execution_count": 5,
   "metadata": {},
   "outputs": [
    {
     "data": {
      "text/html": [
       "<div>\n",
       "<style scoped>\n",
       "    .dataframe tbody tr th:only-of-type {\n",
       "        vertical-align: middle;\n",
       "    }\n",
       "\n",
       "    .dataframe tbody tr th {\n",
       "        vertical-align: top;\n",
       "    }\n",
       "\n",
       "    .dataframe thead th {\n",
       "        text-align: right;\n",
       "    }\n",
       "</style>\n",
       "<table border=\"1\" class=\"dataframe\">\n",
       "  <thead>\n",
       "    <tr style=\"text-align: right;\">\n",
       "      <th></th>\n",
       "      <th>age</th>\n",
       "      <th>sex</th>\n",
       "      <th>cp</th>\n",
       "      <th>trestbps</th>\n",
       "      <th>chol</th>\n",
       "      <th>fbs</th>\n",
       "      <th>restecg</th>\n",
       "      <th>thalach</th>\n",
       "      <th>exang</th>\n",
       "      <th>oldpeak</th>\n",
       "      <th>slope</th>\n",
       "      <th>ca</th>\n",
       "      <th>thal</th>\n",
       "      <th>target</th>\n",
       "    </tr>\n",
       "  </thead>\n",
       "  <tbody>\n",
       "    <tr>\n",
       "      <th>count</th>\n",
       "      <td>303.000000</td>\n",
       "      <td>303.000000</td>\n",
       "      <td>303.000000</td>\n",
       "      <td>303.000000</td>\n",
       "      <td>303.000000</td>\n",
       "      <td>303.000000</td>\n",
       "      <td>303.000000</td>\n",
       "      <td>303.000000</td>\n",
       "      <td>303.000000</td>\n",
       "      <td>303.000000</td>\n",
       "      <td>303.000000</td>\n",
       "      <td>303.000000</td>\n",
       "      <td>303.000000</td>\n",
       "      <td>303.000000</td>\n",
       "    </tr>\n",
       "    <tr>\n",
       "      <th>mean</th>\n",
       "      <td>54.366337</td>\n",
       "      <td>0.683168</td>\n",
       "      <td>0.966997</td>\n",
       "      <td>131.623762</td>\n",
       "      <td>246.264026</td>\n",
       "      <td>0.148515</td>\n",
       "      <td>0.528053</td>\n",
       "      <td>149.646865</td>\n",
       "      <td>0.326733</td>\n",
       "      <td>1.039604</td>\n",
       "      <td>1.399340</td>\n",
       "      <td>0.729373</td>\n",
       "      <td>2.313531</td>\n",
       "      <td>0.544554</td>\n",
       "    </tr>\n",
       "    <tr>\n",
       "      <th>std</th>\n",
       "      <td>9.082101</td>\n",
       "      <td>0.466011</td>\n",
       "      <td>1.032052</td>\n",
       "      <td>17.538143</td>\n",
       "      <td>51.830751</td>\n",
       "      <td>0.356198</td>\n",
       "      <td>0.525860</td>\n",
       "      <td>22.905161</td>\n",
       "      <td>0.469794</td>\n",
       "      <td>1.161075</td>\n",
       "      <td>0.616226</td>\n",
       "      <td>1.022606</td>\n",
       "      <td>0.612277</td>\n",
       "      <td>0.498835</td>\n",
       "    </tr>\n",
       "    <tr>\n",
       "      <th>min</th>\n",
       "      <td>29.000000</td>\n",
       "      <td>0.000000</td>\n",
       "      <td>0.000000</td>\n",
       "      <td>94.000000</td>\n",
       "      <td>126.000000</td>\n",
       "      <td>0.000000</td>\n",
       "      <td>0.000000</td>\n",
       "      <td>71.000000</td>\n",
       "      <td>0.000000</td>\n",
       "      <td>0.000000</td>\n",
       "      <td>0.000000</td>\n",
       "      <td>0.000000</td>\n",
       "      <td>0.000000</td>\n",
       "      <td>0.000000</td>\n",
       "    </tr>\n",
       "    <tr>\n",
       "      <th>25%</th>\n",
       "      <td>47.500000</td>\n",
       "      <td>0.000000</td>\n",
       "      <td>0.000000</td>\n",
       "      <td>120.000000</td>\n",
       "      <td>211.000000</td>\n",
       "      <td>0.000000</td>\n",
       "      <td>0.000000</td>\n",
       "      <td>133.500000</td>\n",
       "      <td>0.000000</td>\n",
       "      <td>0.000000</td>\n",
       "      <td>1.000000</td>\n",
       "      <td>0.000000</td>\n",
       "      <td>2.000000</td>\n",
       "      <td>0.000000</td>\n",
       "    </tr>\n",
       "    <tr>\n",
       "      <th>50%</th>\n",
       "      <td>55.000000</td>\n",
       "      <td>1.000000</td>\n",
       "      <td>1.000000</td>\n",
       "      <td>130.000000</td>\n",
       "      <td>240.000000</td>\n",
       "      <td>0.000000</td>\n",
       "      <td>1.000000</td>\n",
       "      <td>153.000000</td>\n",
       "      <td>0.000000</td>\n",
       "      <td>0.800000</td>\n",
       "      <td>1.000000</td>\n",
       "      <td>0.000000</td>\n",
       "      <td>2.000000</td>\n",
       "      <td>1.000000</td>\n",
       "    </tr>\n",
       "    <tr>\n",
       "      <th>75%</th>\n",
       "      <td>61.000000</td>\n",
       "      <td>1.000000</td>\n",
       "      <td>2.000000</td>\n",
       "      <td>140.000000</td>\n",
       "      <td>274.500000</td>\n",
       "      <td>0.000000</td>\n",
       "      <td>1.000000</td>\n",
       "      <td>166.000000</td>\n",
       "      <td>1.000000</td>\n",
       "      <td>1.600000</td>\n",
       "      <td>2.000000</td>\n",
       "      <td>1.000000</td>\n",
       "      <td>3.000000</td>\n",
       "      <td>1.000000</td>\n",
       "    </tr>\n",
       "    <tr>\n",
       "      <th>max</th>\n",
       "      <td>77.000000</td>\n",
       "      <td>1.000000</td>\n",
       "      <td>3.000000</td>\n",
       "      <td>200.000000</td>\n",
       "      <td>564.000000</td>\n",
       "      <td>1.000000</td>\n",
       "      <td>2.000000</td>\n",
       "      <td>202.000000</td>\n",
       "      <td>1.000000</td>\n",
       "      <td>6.200000</td>\n",
       "      <td>2.000000</td>\n",
       "      <td>4.000000</td>\n",
       "      <td>3.000000</td>\n",
       "      <td>1.000000</td>\n",
       "    </tr>\n",
       "  </tbody>\n",
       "</table>\n",
       "</div>"
      ],
      "text/plain": [
       "              age         sex          cp    trestbps        chol         fbs  \\\n",
       "count  303.000000  303.000000  303.000000  303.000000  303.000000  303.000000   \n",
       "mean    54.366337    0.683168    0.966997  131.623762  246.264026    0.148515   \n",
       "std      9.082101    0.466011    1.032052   17.538143   51.830751    0.356198   \n",
       "min     29.000000    0.000000    0.000000   94.000000  126.000000    0.000000   \n",
       "25%     47.500000    0.000000    0.000000  120.000000  211.000000    0.000000   \n",
       "50%     55.000000    1.000000    1.000000  130.000000  240.000000    0.000000   \n",
       "75%     61.000000    1.000000    2.000000  140.000000  274.500000    0.000000   \n",
       "max     77.000000    1.000000    3.000000  200.000000  564.000000    1.000000   \n",
       "\n",
       "          restecg     thalach       exang     oldpeak       slope          ca  \\\n",
       "count  303.000000  303.000000  303.000000  303.000000  303.000000  303.000000   \n",
       "mean     0.528053  149.646865    0.326733    1.039604    1.399340    0.729373   \n",
       "std      0.525860   22.905161    0.469794    1.161075    0.616226    1.022606   \n",
       "min      0.000000   71.000000    0.000000    0.000000    0.000000    0.000000   \n",
       "25%      0.000000  133.500000    0.000000    0.000000    1.000000    0.000000   \n",
       "50%      1.000000  153.000000    0.000000    0.800000    1.000000    0.000000   \n",
       "75%      1.000000  166.000000    1.000000    1.600000    2.000000    1.000000   \n",
       "max      2.000000  202.000000    1.000000    6.200000    2.000000    4.000000   \n",
       "\n",
       "             thal      target  \n",
       "count  303.000000  303.000000  \n",
       "mean     2.313531    0.544554  \n",
       "std      0.612277    0.498835  \n",
       "min      0.000000    0.000000  \n",
       "25%      2.000000    0.000000  \n",
       "50%      2.000000    1.000000  \n",
       "75%      3.000000    1.000000  \n",
       "max      3.000000    1.000000  "
      ]
     },
     "execution_count": 5,
     "metadata": {},
     "output_type": "execute_result"
    }
   ],
   "source": [
    "dataset.describe()"
   ]
  },
  {
   "cell_type": "markdown",
   "metadata": {},
   "source": [
    "#### Class Distribution\n",
    "\n",
    "After loading the dataset we can explore for example the class distribution so we can take into account the modal class."
   ]
  },
  {
   "cell_type": "code",
   "execution_count": 6,
   "metadata": {
    "pycharm": {
     "name": "#%%\n"
    }
   },
   "outputs": [
    {
     "name": "stdout",
     "output_type": "stream",
     "text": [
      "165 positives samples and 138 negatives samples\n"
     ]
    }
   ],
   "source": [
    "# class balance\n",
    "cb = dataset['target'].value_counts()\n",
    "print(f'{cb[1]} positives samples and {cb[0]} negatives samples')"
   ]
  },
  {
   "cell_type": "markdown",
   "metadata": {},
   "source": [
    "It is even better to visualize it in a Pie chart. From the figure below we can observe that 54.5% of the samples are positives and 45.5% are negative. Therefore, we can assume that we have an almost balanced dataset."
   ]
  },
  {
   "cell_type": "code",
   "execution_count": 7,
   "metadata": {
    "pycharm": {
     "name": "#%%\n"
    }
   },
   "outputs": [
    {
     "data": {
      "text/plain": [
       "Text(0.5, 1.0, 'Class Distribution')"
      ]
     },
     "execution_count": 7,
     "metadata": {},
     "output_type": "execute_result"
    },
    {
     "data": {
      "image/png": "[encoded data removed]",
      "text/plain": [
       "<Figure size 360x360 with 1 Axes>"
      ]
     },
     "metadata": {},
     "output_type": "display_data"
    }
   ],
   "source": [
    "plot1 = dataset['target'].value_counts().plot(kind='pie', shadow = True,figsize=(5,5), autopct='%1.1f%%')\n",
    "plt.title('Class Distribution')"
   ]
  },
  {
   "cell_type": "markdown",
   "metadata": {},
   "source": [
    "#### Correlation measurement\n",
    "\n",
    "Another analysis could be the correlation measurement of the different features with the target. For this operation we can simply use the `.corr()` object of the Pandas dataframe as follow:"
   ]
  },
  {
   "cell_type": "code",
   "execution_count": 8,
   "metadata": {
    "pycharm": {
     "name": "#%%\n"
    }
   },
   "outputs": [
    {
     "data": {
      "text/plain": [
       "cp          0.433798\n",
       "thalach     0.421741\n",
       "slope       0.345877\n",
       "restecg     0.137230\n",
       "fbs        -0.028046\n",
       "chol       -0.085239\n",
       "trestbps   -0.144931\n",
       "age        -0.225439\n",
       "sex        -0.280937\n",
       "thal       -0.344029\n",
       "ca         -0.391724\n",
       "oldpeak    -0.430696\n",
       "exang      -0.436757\n",
       "Name: target, dtype: float64"
      ]
     },
     "execution_count": 8,
     "metadata": {},
     "output_type": "execute_result"
    }
   ],
   "source": [
    "dataset[dataset.columns[:]].corr()['target'][:].sort_values(ascending=False)[1:]"
   ]
  },
  {
   "cell_type": "markdown",
   "metadata": {},
   "source": [
    "From this correlation operation we can observe that the features **cp, thelach and slope** had the greatest positive correlation and **exang, oldpeak, ca and thal** the greatest negative correlation. Furthermore, the features **fbs and chol** have the lowest correlation values. We can also visualize this information in a bar chart as shown below:"
   ]
  },
  {
   "cell_type": "code",
   "execution_count": 9,
   "metadata": {
    "pycharm": {
     "name": "#%%\n"
    }
   },
   "outputs": [
    {
     "data": {
      "text/plain": [
       "Text(0, 0.5, 'Correlation value')"
      ]
     },
     "execution_count": 9,
     "metadata": {},
     "output_type": "execute_result"
    },
    {
     "data": {
      "image/png": "[encoded data removed]",
      "text/plain": [
       "<Figure size 1080x360 with 1 Axes>"
      ]
     },
     "metadata": {
      "needs_background": "light"
     },
     "output_type": "display_data"
    }
   ],
   "source": [
    "plot2 = dataset[dataset.columns[:]].corr()['target'][:].sort_values(ascending=False)[1:].plot(kind='bar', figsize=(15, 5))\n",
    "plt.title('Correlation of Features with Target')\n",
    "plt.xlabel('Feature')\n",
    "plt.ylabel('Correlation value')"
   ]
  },
  {
   "cell_type": "markdown",
   "metadata": {},
   "source": [
    "#### Data Preparation\n",
    "\n",
    "For preparing the dataset I simply split the samples into the classic 70-30% training and testing as follow:"
   ]
  },
  {
   "cell_type": "code",
   "execution_count": 10,
   "metadata": {
    "pycharm": {
     "name": "#%%\n"
    }
   },
   "outputs": [
    {
     "name": "stdout",
     "output_type": "stream",
     "text": [
      "Input dimension =  (212, 13) \n",
      "No. examples for validation =  91\n"
     ]
    }
   ],
   "source": [
    "# separating input and output\n",
    "x_in, y_out = dataset.iloc[:,:-1], dataset.iloc[:,-1]\n",
    "# separating training and validation\n",
    "x_train, x_val, y_train, y_val = train_test_split(x_in, y_out, test_size=0.30, random_state=50)\n",
    "# converting into arrays\n",
    "x_train, x_val, y_train, y_val = x_train.values, x_val.values, y_train.values, y_val.values\n",
    "print('Input dimension = ', x_train.shape, '\\nNo. examples for validation = ', len(y_val))\n"
   ]
  },
  {
   "cell_type": "markdown",
   "metadata": {},
   "source": [
    "Next, a nested cross validation will be performed. This process is easily achieved with 2 special functions from the libraries `sklearn`. The first [GridSearchCV](https://scikit-learn.org/stable/modules/generated/sklearn.model_selection.GridSearchCV.html), perform 'the inner cross validation' process where the model gets tuned by estimating the best combination of a hypermparameter from a specify grid. The second function [cross_val_scores](https://scikit-learn.org/stable/modules/generated/sklearn.model_selection.cross_val_score.html) help us implement the outer process to estimate the performance of the selected parameters, n numbers of times."
   ]
  },
  {
   "cell_type": "code",
   "execution_count": 11,
   "metadata": {
    "pycharm": {
     "name": "#%%\n"
    }
   },
   "outputs": [],
   "source": [
    "# Variable to store the results of all models\n",
    "summary_model_performance = dict()\n",
    "# Inner and Outer configuration\n",
    "inner_cv_parameters = KFold(n_splits=5)\n",
    "outer_cv_parameters = KFold(n_splits=3)\n",
    "# Evaluation Metric\n",
    "evaluation_metric = 'f1'"
   ]
  },
  {
   "cell_type": "markdown",
   "metadata": {
    "pycharm": {
     "name": "#%% md\n"
    }
   },
   "source": [
    "## 2. Development and Comparison of Machine Learning Models\n",
    "\n",
    "### Decision Tree Classifier\n",
    "\n",
    "It is a non-parametric supervise learning method that learns simple decision rules from the data. This basic decisions are broken into simple ones e.g. if-else-then.\n",
    "\n",
    "This model was implemented using the function [tree.DecisionTreeClassifier](https://scikit-learn.org/stable/modules/generated/sklearn.tree.DecisionTreeClassifier.html) from `sklearn`. Also, a grid was created to explore different hyperparameters such as:\n",
    "\n",
    "* Criteria: The “gini” for the Gini impurity and the “entropy” for the information gain.\n",
    "* Maximum depth: The maximum depth of the tree"
   ]
  },
  {
   "cell_type": "code",
   "execution_count": 12,
   "metadata": {
    "pycharm": {
     "name": "#%%\n"
    }
   },
   "outputs": [],
   "source": [
    "# Parameters establishment\n",
    "DT_parameters = {'criterion': ['gini', 'entropy'],\n",
    "           'max_depth': [5, 10, 15, 20]}\n",
    "\n",
    "# Initializing Model\n",
    "DT_model = tree.DecisionTreeClassifier()"
   ]
  },
  {
   "cell_type": "markdown",
   "metadata": {
    "pycharm": {
     "name": "#%% md\n"
    }
   },
   "source": [
    "#### DT Confusion Matrix\n",
    "In order to check the results of the model not just in terms of the f1 score, the confusion matrix was also performed:"
   ]
  },
  {
   "cell_type": "code",
   "execution_count": 13,
   "metadata": {
    "pycharm": {
     "name": "#%%\n"
    }
   },
   "outputs": [],
   "source": [
    "# Estimating best hyperparameter through gridsearch, using all the data available\n",
    "DT_best = GridSearchCV(estimator=DT_model, param_grid=DT_parameters, cv=inner_cv_parameters)\n",
    "DT_best.fit(x_train, y_train)\n",
    "\n",
    "# model validation predictions\n",
    "DT_valpre = DT_best.predict(x_val)\n",
    "DT_scores = score(y_val, DT_valpre)"
   ]
  },
  {
   "cell_type": "code",
   "execution_count": 14,
   "metadata": {},
   "outputs": [
    {
     "name": "stderr",
     "output_type": "stream",
     "text": [
      "C:\\Users\\kevin\\Anaconda3\\envs\\heart_disease_prediction_app\\lib\\site-packages\\sklearn\\utils\\deprecation.py:87: FutureWarning: Function plot_confusion_matrix is deprecated; Function `plot_confusion_matrix` is deprecated in 1.0 and will be removed in 1.2. Use one of the class methods: ConfusionMatrixDisplay.from_predictions or ConfusionMatrixDisplay.from_estimator.\n",
      "  warnings.warn(msg, category=FutureWarning)\n"
     ]
    },
    {
     "name": "stdout",
     "output_type": "stream",
     "text": [
      "DT best parameter: {'criterion': 'entropy', 'max_depth': 5}, best score: 76.84% \n"
     ]
    },
    {
     "data": {
      "image/png": "[encoded data removed]",
      "text/plain": [
       "<Figure size 1080x432 with 2 Axes>"
      ]
     },
     "metadata": {
      "needs_background": "light"
     },
     "output_type": "display_data"
    }
   ],
   "source": [
    "# Finding and storing model performance & confusion matrix results\n",
    "tn, fp, fn, tp = skl.metrics.confusion_matrix(y_val, DT_valpre).ravel()\n",
    "summary_model_performance['DT'] = {'tr_score': DT_best.best_score_, 'f1_score': np.round(np.mean(DT_scores[2]), decimals=4),\n",
    "                                   'tcorrect': tn+tp, 'fpositives': fp, 'fnegatives': fn}\n",
    "\n",
    "# Getting confusion matrix on validation data\n",
    "skl.metrics.plot_confusion_matrix(DT_best, x_val, y_val)\n",
    "print('DT best parameter: %s, best score: %.2f%% '%(DT_best.best_params_, 100*DT_best.best_score_))"
   ]
  },
  {
   "cell_type": "markdown",
   "metadata": {
    "pycharm": {
     "name": "#%% md\n"
    }
   },
   "source": [
    "As showing in the figure above, with this model the number of positives and negatives correctly identify were 41 from 25. The number of false negatives and false positives are is 11 and 14 respectively."
   ]
  },
  {
   "cell_type": "markdown",
   "metadata": {},
   "source": [
    "### Support Vector Machine Classifier\n",
    "\n",
    "This is a supervised learning model suitable for high dimensional spaces. This makes it a perfect candidate given the number of features that we have (15). These gets represented in a multi-dimensional space where samples are separated by the maximum possible distance.\n",
    "\n",
    "This model can be implemented using [svm.SVC](https://scikit-learn.org/stable/modules/generated/sklearn.svm.SVC.html#sklearn.svm.SVC) from `sklearn`. Also, a grid was created to explore different hyperparameters such as:\n",
    "\n",
    "* C: The strength of the regularization parameter\n",
    "* Gamma: Kernel coefficient for the functions ‘rbf’, ‘poly’ and ‘sigmoid’\n",
    "* Kernel functions : Used to try different decision functions"
   ]
  },
  {
   "cell_type": "code",
   "execution_count": 15,
   "metadata": {
    "pycharm": {
     "name": "#%%\n"
    }
   },
   "outputs": [],
   "source": [
    "# Parameters establishment\n",
    "SVM_parameters = {'C': [1e-5, 1, 1e5],\n",
    "            'gamma': [1e-1, 1, 1e1],\n",
    "            'kernel': ['linear', 'rbf']}\n",
    "\n",
    "# Initializing Model\n",
    "SVM_model = svm.SVC()"
   ]
  },
  {
   "cell_type": "markdown",
   "metadata": {
    "pycharm": {
     "name": "#%% md\n"
    }
   },
   "source": [
    "#### SVM Confusion Matrix\n",
    "In order to check the results of the model not just in terms of the f1 score, the confusion matrix was also performed:"
   ]
  },
  {
   "cell_type": "code",
   "execution_count": 16,
   "metadata": {
    "pycharm": {
     "name": "#%%\n"
    }
   },
   "outputs": [],
   "source": [
    "# Estimating best hyperparameter through gridsearch, using all the data available\n",
    "SVM_best = GridSearchCV(estimator=SVM_model, param_grid=SVM_parameters, cv=inner_cv_parameters)\n",
    "SVM_best.fit(x_train, y_train)\n",
    "\n",
    "# model validation predictions\n",
    "SVM_valpre = SVM_best.predict(x_val)\n",
    "SVM_scores = score(y_val, DT_valpre)"
   ]
  },
  {
   "cell_type": "code",
   "execution_count": 17,
   "metadata": {},
   "outputs": [
    {
     "name": "stdout",
     "output_type": "stream",
     "text": [
      "SVM best parameter: {'C': 1, 'gamma': 0.1, 'kernel': 'linear'}, best score: 82.03% \n"
     ]
    },
    {
     "name": "stderr",
     "output_type": "stream",
     "text": [
      "C:\\Users\\kevin\\Anaconda3\\envs\\heart_disease_prediction_app\\lib\\site-packages\\sklearn\\utils\\deprecation.py:87: FutureWarning: Function plot_confusion_matrix is deprecated; Function `plot_confusion_matrix` is deprecated in 1.0 and will be removed in 1.2. Use one of the class methods: ConfusionMatrixDisplay.from_predictions or ConfusionMatrixDisplay.from_estimator.\n",
      "  warnings.warn(msg, category=FutureWarning)\n"
     ]
    },
    {
     "data": {
      "image/png": "[encoded data removed]",
      "text/plain": [
       "<Figure size 1080x432 with 2 Axes>"
      ]
     },
     "metadata": {
      "needs_background": "light"
     },
     "output_type": "display_data"
    }
   ],
   "source": [
    "# Finding and storing model performance & confusion matrix results\n",
    "tn, fp, fn, tp = skl.metrics.confusion_matrix(y_val, SVM_valpre).ravel()\n",
    "summary_model_performance['SVM'] = {'tr_score': SVM_best.best_score_, 'f1_score': np.round(np.mean(SVM_scores[2]), decimals=4),\n",
    "                                   'tcorrect': tn+tp, 'fpositives': fp, 'fnegatives': fn}\n",
    "\n",
    "# Getting confusion matrix on validation data\n",
    "skl.metrics.plot_confusion_matrix(SVM_best, x_val, y_val)\n",
    "print('SVM best parameter: %s, best score: %.2f%% '%(SVM_best.best_params_, 100*SVM_best.best_score_))"
   ]
  },
  {
   "cell_type": "markdown",
   "metadata": {
    "pycharm": {
     "name": "#%% md\n"
    }
   },
   "source": [
    "In this case, for the SVM, the number of positives and negatives correctly identify 47 from 27. The number of false negatives and false positives is 5 and 12 respectively.\n",
    "\n",
    "Until this point the support vector machine is the best model."
   ]
  },
  {
   "cell_type": "markdown",
   "metadata": {},
   "source": [
    "### k-Nearest Neighbors Classifier\n",
    "\n",
    "The KNN model is a non-parametric supervised learning method that save a number of the training examples and their categories to classify new data based on a similarity measurement for each of the classes.\n",
    "\n",
    "The KNN model was implemented using [k-Nearest neighbors classifier](https://scikit-learn.org/stable/modules/generated/sklearn.neighbors.KNeighborsClassifier.html) from `sklearn`. Also, a grid was created to explore different hyperparameters such as:\n",
    "\n",
    "* Metric: Function implemented to calculate the distance between a class an a new input\n",
    "* n_neighbors: Number of k nearest neighbors\n",
    "* Weights: The weight function used in prediction"
   ]
  },
  {
   "cell_type": "code",
   "execution_count": 18,
   "metadata": {
    "pycharm": {
     "name": "#%%\n"
    }
   },
   "outputs": [],
   "source": [
    "# Parameter Establishment\n",
    "KNN_parameters = {'metric': ['minkowski', 'euclidean', 'manhattan', 'chebyshev'],\n",
    "            'n_neighbors': [5, 10, 20, 30],\n",
    "            'weights': ['uniform', 'distance']}\n",
    "\n",
    "# Initializing Model\n",
    "KNN_model = KNeighborsClassifier()"
   ]
  },
  {
   "cell_type": "markdown",
   "metadata": {
    "pycharm": {
     "name": "#%% md\n"
    }
   },
   "source": [
    "#### KNN Confusion Matrix\n",
    "In order to check the results of the model not just in terms of the f1 score, the confusion matrix was also performed:"
   ]
  },
  {
   "cell_type": "code",
   "execution_count": 19,
   "metadata": {
    "pycharm": {
     "name": "#%%\n"
    }
   },
   "outputs": [],
   "source": [
    "# Estimating best hyperparameter through gridsearch, using all the data available\n",
    "KNN_best = GridSearchCV(estimator=KNN_model, param_grid=KNN_parameters, cv=inner_cv_parameters)\n",
    "KNN_best.fit(x_train, y_train)\n",
    "\n",
    "# model validation predictions\n",
    "KNN_valpre = KNN_best.predict(x_val)\n",
    "KNN_scores = score(y_val, KNN_valpre)"
   ]
  },
  {
   "cell_type": "code",
   "execution_count": 20,
   "metadata": {},
   "outputs": [
    {
     "name": "stdout",
     "output_type": "stream",
     "text": [
      "KNN best parameter: {'metric': 'manhattan', 'n_neighbors': 20, 'weights': 'uniform'}, best score: 72.62% \n"
     ]
    },
    {
     "name": "stderr",
     "output_type": "stream",
     "text": [
      "C:\\Users\\kevin\\Anaconda3\\envs\\heart_disease_prediction_app\\lib\\site-packages\\sklearn\\utils\\deprecation.py:87: FutureWarning: Function plot_confusion_matrix is deprecated; Function `plot_confusion_matrix` is deprecated in 1.0 and will be removed in 1.2. Use one of the class methods: ConfusionMatrixDisplay.from_predictions or ConfusionMatrixDisplay.from_estimator.\n",
      "  warnings.warn(msg, category=FutureWarning)\n"
     ]
    },
    {
     "data": {
      "image/png": "[encoded data removed]",
      "text/plain": [
       "<Figure size 1080x432 with 2 Axes>"
      ]
     },
     "metadata": {
      "needs_background": "light"
     },
     "output_type": "display_data"
    }
   ],
   "source": [
    "# Finding and storing model performance & confusion matrix results\n",
    "tn, fp, fn, tp = skl.metrics.confusion_matrix(y_val, KNN_valpre).ravel()\n",
    "summary_model_performance['KNN'] = {'tr_score': KNN_best.best_score_, 'f1_score': np.round(np.mean(KNN_scores[2]), decimals=4),\n",
    "                                   'tcorrect': tn+tp, 'fpositives': fp, 'fnegatives': fn}\n",
    "\n",
    "# Getting confusion matrix on validation data\n",
    "skl.metrics.plot_confusion_matrix(KNN_best, x_val, y_val)\n",
    "print('KNN best parameter: %s, best score: %.2f%% '%(KNN_best.best_params_, 100*KNN_best.best_score_))"
   ]
  },
  {
   "cell_type": "markdown",
   "metadata": {
    "pycharm": {
     "name": "#%% md\n"
    }
   },
   "source": [
    "For the KNN, the total number of correct predictions was around 60. The number of false positives and false negatives is 12 and 19 respectively."
   ]
  },
  {
   "cell_type": "markdown",
   "metadata": {},
   "source": [
    "### Logistic Regression Classifier\n",
    "In a simple explanation, this is a supervised learning model that maps inputs into outputs through a logistic function. This model was implemented through the function [linear_model.LogisticRegression()](https://scikit-learn.org/stable/modules/generated/sklearn.linear_model.LogisticRegression.html) from `sklearn`. The grid for different hyperparameters considers:\n",
    "\n",
    "* C: The nverse of regularization strength\n",
    "* solver: This specifies different algorithms used for optimization\n",
    "* max_iter: maximum number of iterations"
   ]
  },
  {
   "cell_type": "code",
   "execution_count": 21,
   "metadata": {
    "pycharm": {
     "name": "#%%\n"
    }
   },
   "outputs": [],
   "source": [
    "# Parameter Establishment\n",
    "LR_parameters = {'C': [1e-5, 1e-2, 1, 1e2, 1e5],\n",
    "            'solver': ['newton-cg', 'lbfgs', 'liblinear', 'saga'],\n",
    "           'max_iter': [50000]}\n",
    "\n",
    "# Initializing Model\n",
    "LR_model = linear_model.LogisticRegression()"
   ]
  },
  {
   "cell_type": "markdown",
   "metadata": {
    "pycharm": {
     "name": "#%% md\n"
    }
   },
   "source": [
    "#### LR Confusion Matrix\n",
    "In order to check the results of the model not just in terms of the f1 score, the confusion matrix was also performed:"
   ]
  },
  {
   "cell_type": "code",
   "execution_count": 22,
   "metadata": {
    "pycharm": {
     "name": "#%%\n"
    }
   },
   "outputs": [],
   "source": [
    "# Estimating best hyperparameter through gridsearch, using all the data available\n",
    "LR_best = GridSearchCV(estimator=LR_model, param_grid=LR_parameters, cv=inner_cv_parameters)\n",
    "LR_best.fit(x_train, y_train)\n",
    "\n",
    "# model validation predictions\n",
    "LR_valpre = LR_best.predict(x_val)\n",
    "LR_scores = score(y_val, LR_valpre)"
   ]
  },
  {
   "cell_type": "code",
   "execution_count": 23,
   "metadata": {},
   "outputs": [
    {
     "name": "stdout",
     "output_type": "stream",
     "text": [
      "LR best parameter: {'C': 1, 'max_iter': 50000, 'solver': 'saga'}, best score: 82.52% \n"
     ]
    },
    {
     "name": "stderr",
     "output_type": "stream",
     "text": [
      "C:\\Users\\kevin\\Anaconda3\\envs\\heart_disease_prediction_app\\lib\\site-packages\\sklearn\\utils\\deprecation.py:87: FutureWarning: Function plot_confusion_matrix is deprecated; Function `plot_confusion_matrix` is deprecated in 1.0 and will be removed in 1.2. Use one of the class methods: ConfusionMatrixDisplay.from_predictions or ConfusionMatrixDisplay.from_estimator.\n",
      "  warnings.warn(msg, category=FutureWarning)\n"
     ]
    },
    {
     "data": {
      "image/png": "[encoded data removed]",
      "text/plain": [
       "<Figure size 1080x432 with 2 Axes>"
      ]
     },
     "metadata": {
      "needs_background": "light"
     },
     "output_type": "display_data"
    }
   ],
   "source": [
    "# Finding and storing model performance & confusion matrix results\n",
    "tn, fp, fn, tp = skl.metrics.confusion_matrix(y_val, LR_valpre).ravel()\n",
    "summary_model_performance['LR'] = {'tr_score': LR_best.best_score_, 'f1_score': np.round(np.mean(LR_scores[2]), decimals=4),\n",
    "                                   'tcorrect': tn+tp, 'fpositives': fp, 'fnegatives': fn}\n",
    "\n",
    "# Getting confusion matrix on validation data\n",
    "skl.metrics.plot_confusion_matrix(LR_best, x_val, y_val)\n",
    "print('LR best parameter: %s, best score: %.2f%% '%(LR_best.best_params_, 100*LR_best.best_score_))"
   ]
  },
  {
   "cell_type": "markdown",
   "metadata": {
    "pycharm": {
     "name": "#%% md\n"
    }
   },
   "source": [
    "For the LR model, the total amount of correctly identified was 76. The number of false positives and false negatives is 2 and 13 respectively."
   ]
  },
  {
   "cell_type": "markdown",
   "metadata": {},
   "source": [
    "### Multilayer Perceptron\n",
    "\n",
    "This model is normally described as a feedforward artificial neural network that uses supervised learning to perform a mapping between inputs and outputs. It has been named as a universal function approximation.\n",
    "\n",
    "This model was implemented through the function [neural_network.MLPClassifier](https://scikit-learn.org/stable/modules/generated/sklearn.neural_network.MLPClassifier.html) from `sklearn`. The grid for different hyperparameters considers:\n",
    "\n",
    "* hidden_layer_sizes: The number hidden layers & neurons in each hidden layer\n",
    "* activation: Activation function for every neuron\n",
    "* solver: Optimization algorithm\n"
   ]
  },
  {
   "cell_type": "code",
   "execution_count": 24,
   "metadata": {
    "pycharm": {
     "name": "#%%\n"
    },
    "scrolled": true
   },
   "outputs": [],
   "source": [
    "# Parameter Establishment\n",
    "MLP_parameters = {'hidden_layer_sizes': [(30, 20, 10, 5), (50, 10, 2), (100, 20, 5)],\n",
    "            'activation': ['tanh', 'relu'],\n",
    "            'solver': ['lbfgs', 'adam'],\n",
    "            'learning_rate_init': [0.01, 0.001],\n",
    "            'early_stopping': [True],\n",
    "            'n_iter_no_change': [4],\n",
    "            'max_iter': [50000]}\n",
    "\n",
    "# Initializing Model\n",
    "MLP_model = MLPClassifier()"
   ]
  },
  {
   "cell_type": "markdown",
   "metadata": {},
   "source": [
    "#### MLP Confusion Matrix\n",
    "The confusion matrix of the MLP showed us how this model is also better than the others at having less false positives and false negatives"
   ]
  },
  {
   "cell_type": "code",
   "execution_count": 25,
   "metadata": {
    "pycharm": {
     "name": "#%%\n"
    }
   },
   "outputs": [
    {
     "name": "stderr",
     "output_type": "stream",
     "text": [
      "C:\\Users\\kevin\\Anaconda3\\envs\\heart_disease_prediction_app\\lib\\site-packages\\sklearn\\neural_network\\_multilayer_perceptron.py:549: ConvergenceWarning: lbfgs failed to converge (status=1):\n",
      "STOP: TOTAL NO. of f AND g EVALUATIONS EXCEEDS LIMIT.\n",
      "\n",
      "Increase the number of iterations (max_iter) or scale the data as shown in:\n",
      "    https://scikit-learn.org/stable/modules/preprocessing.html\n",
      "  self.n_iter_ = _check_optimize_result(\"lbfgs\", opt_res, self.max_iter)\n",
      "C:\\Users\\kevin\\Anaconda3\\envs\\heart_disease_prediction_app\\lib\\site-packages\\sklearn\\neural_network\\_multilayer_perceptron.py:549: ConvergenceWarning: lbfgs failed to converge (status=1):\n",
      "STOP: TOTAL NO. of f AND g EVALUATIONS EXCEEDS LIMIT.\n",
      "\n",
      "Increase the number of iterations (max_iter) or scale the data as shown in:\n",
      "    https://scikit-learn.org/stable/modules/preprocessing.html\n",
      "  self.n_iter_ = _check_optimize_result(\"lbfgs\", opt_res, self.max_iter)\n",
      "C:\\Users\\kevin\\Anaconda3\\envs\\heart_disease_prediction_app\\lib\\site-packages\\sklearn\\neural_network\\_multilayer_perceptron.py:549: ConvergenceWarning: lbfgs failed to converge (status=1):\n",
      "STOP: TOTAL NO. of f AND g EVALUATIONS EXCEEDS LIMIT.\n",
      "\n",
      "Increase the number of iterations (max_iter) or scale the data as shown in:\n",
      "    https://scikit-learn.org/stable/modules/preprocessing.html\n",
      "  self.n_iter_ = _check_optimize_result(\"lbfgs\", opt_res, self.max_iter)\n",
      "C:\\Users\\kevin\\Anaconda3\\envs\\heart_disease_prediction_app\\lib\\site-packages\\sklearn\\neural_network\\_multilayer_perceptron.py:549: ConvergenceWarning: lbfgs failed to converge (status=1):\n",
      "STOP: TOTAL NO. of f AND g EVALUATIONS EXCEEDS LIMIT.\n",
      "\n",
      "Increase the number of iterations (max_iter) or scale the data as shown in:\n",
      "    https://scikit-learn.org/stable/modules/preprocessing.html\n",
      "  self.n_iter_ = _check_optimize_result(\"lbfgs\", opt_res, self.max_iter)\n"
     ]
    }
   ],
   "source": [
    "# Estimating best hyperparameter through gridsearch, using all the data available\n",
    "MLP_best = GridSearchCV(estimator=MLP_model, param_grid=MLP_parameters, cv=inner_cv_parameters)\n",
    "MLP_best.fit(x_train, y_train)\n",
    "\n",
    "# model validation predictions\n",
    "MLP_valpre = MLP_best.predict(x_val)\n",
    "MLP_scores = score(y_val, MLP_valpre)"
   ]
  },
  {
   "cell_type": "code",
   "execution_count": 26,
   "metadata": {},
   "outputs": [
    {
     "name": "stderr",
     "output_type": "stream",
     "text": [
      "C:\\Users\\kevin\\Anaconda3\\envs\\heart_disease_prediction_app\\lib\\site-packages\\sklearn\\utils\\deprecation.py:87: FutureWarning: Function plot_confusion_matrix is deprecated; Function `plot_confusion_matrix` is deprecated in 1.0 and will be removed in 1.2. Use one of the class methods: ConfusionMatrixDisplay.from_predictions or ConfusionMatrixDisplay.from_estimator.\n",
      "  warnings.warn(msg, category=FutureWarning)\n"
     ]
    },
    {
     "name": "stdout",
     "output_type": "stream",
     "text": [
      "MLP best parameter: {'activation': 'tanh', 'early_stopping': True, 'hidden_layer_sizes': (50, 10, 2), 'learning_rate_init': 0.01, 'max_iter': 50000, 'n_iter_no_change': 4, 'solver': 'lbfgs'}, best score: 75.02% \n"
     ]
    },
    {
     "data": {
      "image/png": "[encoded data removed]",
      "text/plain": [
       "<Figure size 1080x432 with 2 Axes>"
      ]
     },
     "metadata": {
      "needs_background": "light"
     },
     "output_type": "display_data"
    }
   ],
   "source": [
    "# Finding and storing model performance & confusion matrix results\n",
    "tn, fp, fn, tp = skl.metrics.confusion_matrix(y_val, MLP_valpre).ravel()\n",
    "summary_model_performance['MLP'] = {'tr_score': MLP_best.best_score_, 'f1_score': np.round(np.mean(MLP_scores[2]), decimals=4),\n",
    "                                   'tcorrect': tn+tp, 'fpositives': fp, 'fnegatives': fn}\n",
    "\n",
    "# Getting confusion matrix on validation data\n",
    "skl.metrics.plot_confusion_matrix(MLP_best, x_val, y_val)\n",
    "print('MLP best parameter: %s, best score: %.2f%% '%(MLP_best.best_params_, 100*MLP_best.best_score_))"
   ]
  },
  {
   "cell_type": "markdown",
   "metadata": {},
   "source": [
    "For our MLP model, the number of true negatives was 25 and the number of true positives 41. The number of false negatives and false positives was 11 and 14 respectively.\n",
    "\n",
    "### Selecting the Best Model\n",
    "Based on the results given through the f1-score using `sklearn` framework, the best model is the **Logistic Regressor** with a f1 score in the validation set of **82%**."
   ]
  },
  {
   "cell_type": "code",
   "execution_count": 27,
   "metadata": {
    "pycharm": {
     "name": "#%%\n"
    }
   },
   "outputs": [
    {
     "data": {
      "text/plain": [
       "Text(0.5, 0, 'f1 score')"
      ]
     },
     "execution_count": 27,
     "metadata": {},
     "output_type": "execute_result"
    },
    {
     "data": {
      "image/png": "[encoded data removed]",
      "text/plain": [
       "<Figure size 1080x432 with 1 Axes>"
      ]
     },
     "metadata": {
      "needs_background": "light"
     },
     "output_type": "display_data"
    }
   ],
   "source": [
    "df = pd.DataFrame(summary_model_performance)\n",
    "\n",
    "fig, ax = plt.subplots()\n",
    "ax = df.iloc[1].transpose().plot(kind='barh')\n",
    "ax.minorticks_on()\n",
    "ax.grid(which='major',linestyle='-', linewidth=1, axis='x', zorder=0)\n",
    "ax.grid(which='minor',linestyle='--', linewidth=0.5, axis='x', zorder=0)\n",
    "ax.set_title('Summary of Models f1 Scores')\n",
    "ax.set_xlabel('f1 score')"
   ]
  },
  {
   "cell_type": "markdown",
   "metadata": {
    "pycharm": {
     "name": "#%% md\n"
    }
   },
   "source": [
    "The LR is the model that predicts the largest number of classes correctly."
   ]
  },
  {
   "cell_type": "code",
   "execution_count": 30,
   "metadata": {
    "pycharm": {
     "name": "#%%\n"
    }
   },
   "outputs": [
    {
     "data": {
      "text/plain": [
       "Text(0.5, 0, 'Total Correctly Predicted')"
      ]
     },
     "execution_count": 30,
     "metadata": {},
     "output_type": "execute_result"
    },
    {
     "data": {
      "image/png": "[encoded data removed]",
      "text/plain": [
       "<Figure size 1080x432 with 1 Axes>"
      ]
     },
     "metadata": {
      "needs_background": "light"
     },
     "output_type": "display_data"
    }
   ],
   "source": [
    "fig, ax = plt.subplots()\n",
    "ax = df.iloc[2].transpose().plot(kind='barh')\n",
    "ax.minorticks_on()\n",
    "ax.grid(which='major',linestyle='-', linewidth=1, axis='x', zorder=0)\n",
    "ax.grid(which='minor',linestyle='--', linewidth=0.5, axis='x', zorder=0)\n",
    "ax.set_title('Models Total Correctly Predicted Classes')\n",
    "ax.set_xlabel('Total Correctly Predicted')"
   ]
  },
  {
   "cell_type": "markdown",
   "metadata": {
    "pycharm": {
     "name": "#%% md\n"
    }
   },
   "source": [
    "We can verify this also by checking the number of false positives and false negatives which in this case we would like to be the least possible number"
   ]
  },
  {
   "cell_type": "code",
   "execution_count": 29,
   "metadata": {
    "pycharm": {
     "name": "#%%\n"
    }
   },
   "outputs": [
    {
     "data": {
      "text/plain": [
       "Text(0.5, 0, 'Number of False Positives & False Negatives')"
      ]
     },
     "execution_count": 29,
     "metadata": {},
     "output_type": "execute_result"
    },
    {
     "data": {
      "image/png": "[encoded data removed]",
      "text/plain": [
       "<Figure size 1080x432 with 1 Axes>"
      ]
     },
     "metadata": {
      "needs_background": "light"
     },
     "output_type": "display_data"
    }
   ],
   "source": [
    "ax = df.iloc[3:].transpose().plot(kind='barh')\n",
    "ax.minorticks_on()\n",
    "ax.grid(which='major',linestyle='-', linewidth=1, axis='x', zorder=0)\n",
    "ax.grid(which='minor',linestyle='--', linewidth=0.5, axis='x', zorder=0)\n",
    "ax.set_title('Models False Positives & False Negatives')\n",
    "ax.set_xlabel('Number of False Positives & False Negatives')"
   ]
  },
  {
   "cell_type": "markdown",
   "metadata": {},
   "source": [
    "## 3. Saving Model for Deployment\n",
    "\n",
    "After selecting our best model, we can save it into a .pkl format suitable for deployment. We can do this as shown below:"
   ]
  },
  {
   "cell_type": "code",
   "execution_count": 31,
   "metadata": {
    "pycharm": {
     "name": "#%%\n"
    }
   },
   "outputs": [],
   "source": [
    "pkl_filename = 'pickle_LR_model'\n",
    "with open(pkl_filename, 'wb') as file:\n",
    "    pickle.dump(LR_best, file)"
   ]
  },
  {
   "cell_type": "markdown",
   "metadata": {},
   "source": [
    "#### Loading the saved model\n",
    "\n",
    "For loading the model we need the next lines of code:"
   ]
  },
  {
   "cell_type": "code",
   "execution_count": 32,
   "metadata": {
    "pycharm": {
     "name": "#%%\n"
    }
   },
   "outputs": [
    {
     "name": "stdout",
     "output_type": "stream",
     "text": [
      "GridSearchCV(cv=KFold(n_splits=5, random_state=None, shuffle=False),\n",
      "             estimator=LogisticRegression(),\n",
      "             param_grid={'C': [1e-05, 0.01, 1, 100.0, 100000.0],\n",
      "                         'max_iter': [50000],\n",
      "                         'solver': ['newton-cg', 'lbfgs', 'liblinear', 'saga']})\n"
     ]
    }
   ],
   "source": [
    "with open(pkl_filename, 'rb') as file:\n",
    "    pickle_model=pickle.load(file)\n",
    "\n",
    "print(pickle_model)"
   ]
  },
  {
   "cell_type": "markdown",
   "metadata": {},
   "source": [
    "#### Testing the loaded model\n",
    "\n",
    "We can check that our model is working properly by making some predictions:"
   ]
  },
  {
   "cell_type": "code",
   "execution_count": 33,
   "metadata": {
    "pycharm": {
     "name": "#%%\n"
    }
   },
   "outputs": [
    {
     "name": "stdout",
     "output_type": "stream",
     "text": [
      "Test score: 83.52%\n"
     ]
    },
    {
     "data": {
      "text/plain": [
       "array([1, 1, 0, 1, 1, 0, 0, 1, 0, 1, 1, 1, 1, 1, 1, 1, 1, 1, 0, 1, 1, 0,\n",
       "       1, 1, 1, 1, 1, 0, 1, 0, 0, 0, 1, 1, 0, 0, 1, 0, 1, 1, 1, 1, 0, 0,\n",
       "       1, 1, 1, 1, 0, 0, 0, 1, 1, 1, 1, 1, 1, 1, 0, 1, 1, 0, 1, 1, 1, 1,\n",
       "       1, 1, 1, 0, 0, 1, 1, 0, 1, 1, 1, 1, 0, 1, 0, 1, 0, 0, 1, 1, 1, 0,\n",
       "       1, 1, 1], dtype=int64)"
      ]
     },
     "execution_count": 33,
     "metadata": {},
     "output_type": "execute_result"
    }
   ],
   "source": [
    "score = pickle_model.score(x_val, y_val)\n",
    "print('Test score: {0:.2f}%'.format(100*score))\n",
    "\n",
    "pickle_model.predict(x_val)"
   ]
  }
 ],
 "metadata": {
  "kernelspec": {
   "display_name": "Python 3 (ipykernel)",
   "language": "python",
   "name": "python3"
  },
  "language_info": {
   "codemirror_mode": {
    "name": "ipython",
    "version": 3
   },
   "file_extension": ".py",
   "mimetype": "text/x-python",
   "name": "python",
   "nbconvert_exporter": "python",
   "pygments_lexer": "ipython3",
   "version": "3.8.11"
  }
 },
 "nbformat": 4,
 "nbformat_minor": 4
}
